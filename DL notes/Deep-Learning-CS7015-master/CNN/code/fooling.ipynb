{
 "cells": [
  {
   "cell_type": "code",
   "execution_count": null,
   "metadata": {},
   "outputs": [],
   "source": [
    "%matplotlib inline\n",
    "from tensorflow.examples.tutorials.mnist import input_data\n",
    "mnist = input_data.read_data_sets(\"data/fashion/\", one_hot=True)\n",
    "import tensorflow as tf\n",
    "import matplotlib.pyplot as plt\n",
    "import numpy as np"
   ]
  },
  {
   "cell_type": "code",
   "execution_count": null,
   "metadata": {},
   "outputs": [],
   "source": [
    "# Run this if you want to train the network on your own machine\n",
    "# (This takes a while)\n",
    "\n",
    "tf.reset_default_graph()\n",
    "\n",
    "def weight_variable(shape, name):\n",
    "    initial = tf.truncated_normal(shape, stddev=0.1)\n",
    "    return tf.Variable(initial, name=name)\n",
    "\n",
    "def bias_variable(shape, name):\n",
    "    initial = tf.constant(0.1, shape=shape)\n",
    "    return tf.Variable(initial, name=name)\n",
    "\n",
    "def conv2d(x, W):\n",
    "    return tf.nn.conv2d(x, W, strides=[1, 1, 1, 1], padding='SAME')\n",
    "\n",
    "def max_pool_2x2(x, name):\n",
    "    return tf.nn.max_pool(x, ksize=[1, 2, 2, 1], strides=[1, 2, 2, 1], padding='SAME', name=name)\n",
    "\n",
    "x = tf.placeholder(tf.float32, shape=[None, 784], name='input')\n",
    "y_ = tf.placeholder(tf.float32, shape=[None, 10], name='y_')\n",
    "\n",
    "W = tf.Variable(tf.zeros([784,10]), name='W')\n",
    "b = tf.Variable(tf.zeros([10]), name='b')\n",
    "\n",
    "W_conv1 = weight_variable([5, 5, 1, 32], 'W_conv1')\n",
    "b_conv1 = bias_variable([32], 'b_conv1')\n",
    "x_image = tf.reshape(x, [-1,28,28,1], 'x_image')\n",
    "h_conv1 = tf.nn.relu(conv2d(x_image, W_conv1) + b_conv1, name='h_conv1')\n",
    "h_pool1 = max_pool_2x2(h_conv1, 'h_pool1')\n",
    "\n",
    "W_conv2 = weight_variable([5, 5, 32, 64], 'W_conv2')\n",
    "b_conv2 = bias_variable([64], 'b_conv2')\n",
    "h_conv2 = tf.nn.relu(conv2d(h_pool1, W_conv2) + b_conv2, name='h_conv2')\n",
    "h_pool2 = max_pool_2x2(h_conv2, 'h_pool2')\n",
    "\n",
    "W_fc1 = weight_variable([7 * 7 * 64, 1024], 'W_fc1')\n",
    "b_fc1 = bias_variable([1024], 'b_fc1')\n",
    "h_pool2_flat = tf.reshape(h_pool2, [-1, 7*7*64], name='h_pool2_flat')\n",
    "h_fc1 = tf.nn.relu(tf.matmul(h_pool2_flat, W_fc1) + b_fc1, name='h_fc1')\n",
    "\n",
    "keep_prob = tf.placeholder(tf.float32, name=\"keep_prob\")\n",
    "h_fc1_drop = tf.nn.dropout(h_fc1, keep_prob, name='h_fc1_drop')\n",
    "\n",
    "W_fc2 = weight_variable([1024, 10], 'W_fc2')\n",
    "b_fc2 = bias_variable([10], 'b_fc2')\n",
    "y_conv = tf.nn.softmax(tf.matmul(h_fc1_drop, W_fc2) + b_fc2, name=\"output\")\n",
    "\n",
    "sess = tf.InteractiveSession()\n",
    "\n",
    "cross_entropy = tf.reduce_mean(-tf.reduce_sum(y_ * tf.log(y_conv), reduction_indices=[1]), name='cross_entropy')\n",
    "train_step = tf.train.AdamOptimizer(1e-4, name='train_step').minimize(cross_entropy)\n",
    "correct_prediction = tf.equal(tf.argmax(y_conv,1), tf.argmax(y_,1), name='correct_prediction')\n",
    "accuracy = tf.reduce_mean(tf.cast(correct_prediction, tf.float32), name='accuracy')\n",
    "\n",
    "sess.run(tf.global_variables_initializer())\n",
    "\n",
    "# Putting this in a function to use later when we want to re-train\n",
    "\n",
    "for i in range(10000):\n",
    "    batch = mnist.train.next_batch(1000)\n",
    "    if i%1000 == 0:\n",
    "        train_accuracy = sess.run(accuracy, feed_dict={x:batch[0], y_: batch[1], keep_prob: 1.0})\n",
    "        print(\"step %d, training accuracy %g\"%(i, train_accuracy))\n",
    "    sess.run(train_step, feed_dict={x: batch[0], y_: batch[1], keep_prob: 0.5})\n",
    "\n",
    "print(\"test accuracy %g\" % sess.run(accuracy, feed_dict={\n",
    "    x: mnist.test.images, y_: mnist.test.labels, keep_prob: 1.0}))\n",
    "\n",
    "saver = tf.train.Saver()\n",
    "save_path = saver.save(sess, \"models/mnist_cnn.ckpt\")\n",
    "print(\"Model saved to %s\" % save_path)"
   ]
  },
  {
   "cell_type": "code",
   "execution_count": null,
   "metadata": {},
   "outputs": [],
   "source": [
    "print(\"test accuracy %g\" % sess.run(accuracy, feed_dict={\n",
    "    x: mnist.validation.images, y_: mnist.validation.labels, keep_prob: 1.0}))"
   ]
  },
  {
   "cell_type": "code",
   "execution_count": null,
   "metadata": {},
   "outputs": [],
   "source": [
    "# Define the classification we're optimizing for\n",
    "digit = 0\n",
    "\n",
    "# This is the probability that an input image \n",
    "returned_classification = y_conv[:, digit]\n",
    "\n",
    "# Here's our image of random noise going in\n",
    "img_noise = np.random.uniform(size=(1, 784))\n",
    "\n",
    "# Let's take a look at it and see how the network classifies it now.\n",
    "plt.imshow(img_noise.reshape([28, 28]), cmap='Greys')\n",
    "#print(y_conv.eval({x: img_noise, keep_prob: 1}))\n",
    "\n",
    "\n",
    "print(np.argmax(y_conv.eval({x: img_noise, keep_prob: 1})))"
   ]
  },
  {
   "cell_type": "code",
   "execution_count": null,
   "metadata": {},
   "outputs": [],
   "source": [
    "gradient_op = tf.gradients(returned_classification, x)\n",
    "\n",
    "for i in range(50):\n",
    "    gradients = sess.run(gradient_op, {x: img_noise, keep_prob: 1})\n",
    "\n",
    "    '''\n",
    "    gradients now contains a 28 x 28 matrix. Each element is the derivative of\n",
    "    the chosen classification with respect to a pixel in the image.\n",
    "    '''\n",
    "\n",
    "    gradients = gradients / (np.std(gradients) + 1e-8) # Normalize the gradients...\n",
    "    img_noise = img_noise + gradients[0] # ...and add the normalized gradients to the image\n",
    "\n",
    "plt.imshow(img_noise.reshape([28, 28]), cmap='Greys')\n",
    "plt.show()\n",
    "\n",
    "# Now, classify the adjusted img_noise\n",
    "print(np.argmax(y_conv.eval({x: img_noise, keep_prob: 1})))\n",
    "\n"
   ]
  },
  {
   "cell_type": "code",
   "execution_count": null,
   "metadata": {
    "collapsed": true
   },
   "outputs": [],
   "source": []
  },
  {
   "cell_type": "code",
   "execution_count": null,
   "metadata": {
    "collapsed": true
   },
   "outputs": [],
   "source": []
  }
 ],
 "metadata": {
  "kernelspec": {
   "display_name": "Python 3",
   "language": "python",
   "name": "python3"
  },
  "language_info": {
   "codemirror_mode": {
    "name": "ipython",
    "version": 3
   },
   "file_extension": ".py",
   "mimetype": "text/x-python",
   "name": "python",
   "nbconvert_exporter": "python",
   "pygments_lexer": "ipython3",
   "version": "3.6.3"
  }
 },
 "nbformat": 4,
 "nbformat_minor": 2
}
