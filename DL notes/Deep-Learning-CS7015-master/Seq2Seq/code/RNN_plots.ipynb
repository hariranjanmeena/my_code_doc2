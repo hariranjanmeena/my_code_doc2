{
 "cells": [
  {
   "cell_type": "code",
   "execution_count": 1,
   "metadata": {},
   "outputs": [],
   "source": [
    "import pandas as pd\n",
    "import glob as glob\n",
    "import numpy as np\n",
    "import matplotlib.pyplot as plt\n",
    "%matplotlib inline"
   ]
  },
  {
   "cell_type": "code",
   "execution_count": 2,
   "metadata": {},
   "outputs": [],
   "source": [
    "#print(plt.style.available)\n",
    "style = \"seaborn-darkgrid\"\n",
    "plt.style.use(style)"
   ]
  },
  {
   "cell_type": "markdown",
   "metadata": {},
   "source": [
    "# Bleu Score"
   ]
  },
  {
   "cell_type": "code",
   "execution_count": 3,
   "metadata": {},
   "outputs": [
    {
     "name": "stdout",
     "output_type": "stream",
     "text": [
      "loss/nmt_beam_50\n",
      "loss/nmt_noattention\n",
      "loss/nmt_lr_0_01\n",
      "loss/nmt_sgd\n",
      "loss/nmt_uni\n",
      "loss/nmt_batch_16\n",
      "loss/nmt_gru\n",
      "loss/nmt_batch_128\n",
      "loss/enc_dec_layer\n",
      "loss/nmt_luong\n",
      "loss/nmt_num_units_256\n",
      "loss/nmt_beam_3\n",
      "loss/nmt_layer_3\n",
      "loss/nmt_layer_2\n",
      "loss/nmt_beam_10\n",
      "loss/bidirectional_lstm\n",
      "loss/nmt_lr_0_0001\n",
      "loss/nmt_dropout_05\n",
      "loss/nmt_num_units_1024\n"
     ]
    }
   ],
   "source": [
    "models = glob.glob(\"loss/*\")\n",
    "for model in models:\n",
    "    print(model)"
   ]
  },
  {
   "cell_type": "code",
   "execution_count": 4,
   "metadata": {},
   "outputs": [
    {
     "name": "stdout",
     "output_type": "stream",
     "text": [
      "loss/nmt_dropout_05\n",
      "loss/nmt_dropout_05/run_train_log-tag-test_bleu.csv\n",
      "loss/nmt_dropout_05/run_train_log-tag-train_loss.csv\n",
      "loss/nmt_dropout_05/run_best_bleu_train_log-tag-test_bleu.csv\n",
      "loss/nmt_dropout_05/run_train_log-tag-test_ppl.csv\n",
      "loss/nmt_dropout_05/run_train_log-tag-train_ppl.csv\n",
      "loss/nmt_dropout_05/run_best_bleu_train_log-tag-test_ppl.csv\n"
     ]
    }
   ],
   "source": [
    "each = models[-2]\n",
    "print(each)\n",
    "files1 = glob.glob(each+'/*')\n",
    "for f in files1:\n",
    "    print(f)"
   ]
  },
  {
   "cell_type": "code",
   "execution_count": 5,
   "metadata": {},
   "outputs": [
    {
     "name": "stdout",
     "output_type": "stream",
     "text": [
      "loss/bidirectional_lstm\n",
      "loss/bidirectional_lstm/train_loss.csv\n",
      "loss/bidirectional_lstm/dev_bleu.csv\n",
      "loss/bidirectional_lstm/best_bleu_dev_bleu.csv\n",
      "loss/bidirectional_lstm/train_ppl.csv\n",
      "loss/bidirectional_lstm/best_bleu_dev_ppl.csv\n",
      "loss/bidirectional_lstm/dev_ppl.csv\n"
     ]
    }
   ],
   "source": [
    "each = models[-4]\n",
    "print(each)\n",
    "files2 = glob.glob(each+'/*')\n",
    "for f in files2:\n",
    "    print(f)"
   ]
  },
  {
   "cell_type": "code",
   "execution_count": null,
   "metadata": {},
   "outputs": [],
   "source": [
    "each = models[-3]\n",
    "print(each)\n",
    "files3 = glob.glob(each+'/*')\n",
    "for f in files3:\n",
    "    print(f)"
   ]
  },
  {
   "cell_type": "code",
   "execution_count": null,
   "metadata": {},
   "outputs": [],
   "source": [
    "each = models[-3]\n",
    "print(each)\n",
    "files4 = glob.glob(each+'/*')\n",
    "for f in files4:\n",
    "    print(f)"
   ]
  },
  {
   "cell_type": "code",
   "execution_count": 6,
   "metadata": {},
   "outputs": [
    {
     "data": {
      "text/plain": [
       "['loss/nmt_dropout_05/run_train_log-tag-test_bleu.csv',\n",
       " 'loss/nmt_dropout_05/run_train_log-tag-train_loss.csv',\n",
       " 'loss/nmt_dropout_05/run_best_bleu_train_log-tag-test_bleu.csv',\n",
       " 'loss/nmt_dropout_05/run_train_log-tag-test_ppl.csv',\n",
       " 'loss/nmt_dropout_05/run_train_log-tag-train_ppl.csv',\n",
       " 'loss/nmt_dropout_05/run_best_bleu_train_log-tag-test_ppl.csv']"
      ]
     },
     "execution_count": 6,
     "metadata": {},
     "output_type": "execute_result"
    }
   ],
   "source": [
    "files1"
   ]
  },
  {
   "cell_type": "code",
   "execution_count": 7,
   "metadata": {},
   "outputs": [],
   "source": [
    "df1 = pd.read_csv(files1[0])\n",
    "df11 = pd.read_csv(files1[2])"
   ]
  },
  {
   "cell_type": "code",
   "execution_count": 8,
   "metadata": {},
   "outputs": [
    {
     "data": {
      "text/plain": [
       "['loss/bidirectional_lstm/train_loss.csv',\n",
       " 'loss/bidirectional_lstm/dev_bleu.csv',\n",
       " 'loss/bidirectional_lstm/best_bleu_dev_bleu.csv',\n",
       " 'loss/bidirectional_lstm/train_ppl.csv',\n",
       " 'loss/bidirectional_lstm/best_bleu_dev_ppl.csv',\n",
       " 'loss/bidirectional_lstm/dev_ppl.csv']"
      ]
     },
     "execution_count": 8,
     "metadata": {},
     "output_type": "execute_result"
    }
   ],
   "source": [
    "files2"
   ]
  },
  {
   "cell_type": "code",
   "execution_count": 9,
   "metadata": {},
   "outputs": [],
   "source": [
    "df2 = pd.read_csv(files2[1])\n",
    "df22 = pd.read_csv(files2[2])"
   ]
  },
  {
   "cell_type": "code",
   "execution_count": null,
   "metadata": {},
   "outputs": [],
   "source": [
    "files3"
   ]
  },
  {
   "cell_type": "code",
   "execution_count": null,
   "metadata": {},
   "outputs": [],
   "source": [
    "df3 = pd.read_csv(files3[1])\n",
    "df33 = pd.read_csv(files3[2])"
   ]
  },
  {
   "cell_type": "code",
   "execution_count": null,
   "metadata": {},
   "outputs": [],
   "source": [
    "files4"
   ]
  },
  {
   "cell_type": "code",
   "execution_count": null,
   "metadata": {},
   "outputs": [],
   "source": [
    "df4 = pd.read_csv(files4[1])\n",
    "df44 = pd.read_csv(files4[2])"
   ]
  },
  {
   "cell_type": "code",
   "execution_count": 10,
   "metadata": {},
   "outputs": [
    {
     "data": {
      "text/plain": [
       "5"
      ]
     },
     "execution_count": 10,
     "metadata": {},
     "output_type": "execute_result"
    }
   ],
   "source": [
    "len(df1)"
   ]
  },
  {
   "cell_type": "code",
   "execution_count": 11,
   "metadata": {},
   "outputs": [
    {
     "data": {
      "text/plain": [
       "17"
      ]
     },
     "execution_count": 11,
     "metadata": {},
     "output_type": "execute_result"
    }
   ],
   "source": [
    "len(df2)"
   ]
  },
  {
   "cell_type": "code",
   "execution_count": null,
   "metadata": {},
   "outputs": [],
   "source": [
    "len(df3)"
   ]
  },
  {
   "cell_type": "code",
   "execution_count": 12,
   "metadata": {},
   "outputs": [],
   "source": [
    "x_axis = df1['Step']\n",
    "y_axis_1 = df1['Value'][:len(x_axis)]\n",
    "y_axis_2 = df2['Value'][:len(x_axis)]\n",
    "#y_axis_3 = df3['Value'][:len(x_axis)]\n",
    "#y_axis_4 = df4['Value'][:len(x_axis)]\n",
    "x_label = '# Steps'\n",
    "y_label = 'Bleu Score'\n",
    "title = 'Performance of model with different dropout rate'\n",
    "#title = 'Comparision of models when number of encoder and decoder layers are different'\n",
    "label1 = 'keep probability = 0.5'\n",
    "label2 = 'keep probability = 0.8'\n",
    "#label3 = 'batch size = 32'\n",
    "#label4 = 'Greedy'\n",
    "filename= 'bleu/dropout_bleu.png'"
   ]
  },
  {
   "cell_type": "code",
   "execution_count": 14,
   "metadata": {},
   "outputs": [
    {
     "data": {
      "image/png": "[encoded data removed]",
      "text/plain": [
       "<matplotlib.figure.Figure at 0x7f1d5f3b9c50>"
      ]
     },
     "metadata": {},
     "output_type": "display_data"
    }
   ],
   "source": [
    "colors = ['cyan', 'yellow', 'red', 'orange', 'magenta', 'violet', 'purple']\n",
    "\n",
    "color3 = (255/255, 28/255, 122/255)\n",
    "color2 = (61/255, 232/255, 25/255)\n",
    "color1 = (22/255, 207/255, 194/255)\n",
    "color4 = (255/255, 0/255, 15/255)\n",
    "\n",
    "plt.figure(figsize=(12,10))\n",
    "\n",
    "plt.plot(x_axis, y_axis_1 , color=color1, label=label1, alpha=0.75)\n",
    "y = df1.iloc[df1['Value'][:len(x_axis)].idxmax()]['Value']\n",
    "x = df1.iloc[df1['Value'][:len(x_axis)].idxmax()]['Step']\n",
    "plt.scatter(x,y, label=None, s=110, c=color1, alpha=0.4)\n",
    "\n",
    "\n",
    "plt.plot(x_axis, y_axis_2 , color=color2, label=label2, alpha=0.75)\n",
    "y = df2.iloc[df2['Value'][:len(x_axis)].idxmax()]['Value']\n",
    "x = df2.iloc[df2['Value'][:len(x_axis)].idxmax()]['Step']\n",
    "plt.scatter(x, y, label=None, s=110, c=color2, alpha=0.75)\n",
    "\n",
    "\n",
    "# plt.plot(x_axis, y_axis_3 , color=color3, label=label3, alpha=0.75)\n",
    "# y = df3.iloc[df3['Value'][:len(x_axis)].idxmax()]['Value']\n",
    "# x = df3.iloc[df3['Value'][:len(x_axis)].idxmax()]['Step']\n",
    "# plt.scatter( x,y, label=None, s=110, c=color3, alpha=0.4)\n",
    "\n",
    "# plt.plot(x_axis, y_axis_4 , color=color4, label=label4, alpha=0.75)\n",
    "# y = df4.iloc[df1['Value'][:len(x_axis)].idxmax()]['Value']\n",
    "# x = df4.iloc[df1['Value'][:len(x_axis)].idxmax()]['Step']\n",
    "# plt.scatter( x,y, label=None, s=110, c=color1, alpha=0.4)\n",
    "\n",
    "\n",
    "plt.xlabel(x_label)\n",
    "plt.ylabel(y_label)\n",
    "plt.legend(loc='best', frameon=True, prop={'size' : 12}) # prop is to set the font properties of the legend\n",
    "\n",
    "plt.title(title)\n",
    "\n",
    "plt.savefig(filename, bbox_inches='tight',transparent=False,pad_inches=.2, dpi = 200)\n",
    "plt.show()"
   ]
  },
  {
   "cell_type": "markdown",
   "metadata": {},
   "source": [
    "# Loss"
   ]
  },
  {
   "cell_type": "code",
   "execution_count": null,
   "metadata": {},
   "outputs": [],
   "source": []
  },
  {
   "cell_type": "code",
   "execution_count": null,
   "metadata": {},
   "outputs": [],
   "source": []
  },
  {
   "cell_type": "code",
   "execution_count": 15,
   "metadata": {},
   "outputs": [
    {
     "name": "stdout",
     "output_type": "stream",
     "text": [
      "loss/nmt_beam_50\n",
      "loss/nmt_noattention\n",
      "loss/nmt_lr_0_01\n",
      "loss/nmt_sgd\n",
      "loss/nmt_uni\n",
      "loss/nmt_batch_16\n",
      "loss/nmt_gru\n",
      "loss/nmt_batch_128\n",
      "loss/enc_dec_layer\n",
      "loss/nmt_luong\n",
      "loss/nmt_num_units_256\n",
      "loss/nmt_beam_3\n",
      "loss/nmt_layer_3\n",
      "loss/nmt_layer_2\n",
      "loss/nmt_beam_10\n",
      "loss/bidirectional_lstm\n",
      "loss/nmt_lr_0_0001\n",
      "loss/nmt_dropout_05\n",
      "loss/nmt_num_units_1024\n"
     ]
    }
   ],
   "source": [
    "models = glob.glob(\"loss/*\")\n",
    "for model in models:\n",
    "    print(model)"
   ]
  },
  {
   "cell_type": "code",
   "execution_count": 17,
   "metadata": {},
   "outputs": [
    {
     "name": "stdout",
     "output_type": "stream",
     "text": [
      "loss/nmt_dropout_05\n",
      "loss/nmt_dropout_05/run_train_log-tag-test_bleu.csv\n",
      "loss/nmt_dropout_05/run_train_log-tag-train_loss.csv\n",
      "loss/nmt_dropout_05/run_best_bleu_train_log-tag-test_bleu.csv\n",
      "loss/nmt_dropout_05/run_train_log-tag-test_ppl.csv\n",
      "loss/nmt_dropout_05/run_train_log-tag-train_ppl.csv\n",
      "loss/nmt_dropout_05/run_best_bleu_train_log-tag-test_ppl.csv\n"
     ]
    }
   ],
   "source": [
    "each = models[-2]\n",
    "print(each)\n",
    "files1 = glob.glob(each+'/*')\n",
    "for f in files1:\n",
    "    print(f)"
   ]
  },
  {
   "cell_type": "code",
   "execution_count": 19,
   "metadata": {},
   "outputs": [
    {
     "name": "stdout",
     "output_type": "stream",
     "text": [
      "loss/bidirectional_lstm\n",
      "loss/bidirectional_lstm/train_loss.csv\n",
      "loss/bidirectional_lstm/dev_bleu.csv\n",
      "loss/bidirectional_lstm/best_bleu_dev_bleu.csv\n",
      "loss/bidirectional_lstm/train_ppl.csv\n",
      "loss/bidirectional_lstm/best_bleu_dev_ppl.csv\n",
      "loss/bidirectional_lstm/dev_ppl.csv\n"
     ]
    }
   ],
   "source": [
    "each = models[-4]\n",
    "print(each)\n",
    "files2 = glob.glob(each+'/*')\n",
    "for f in files2:\n",
    "    print(f)"
   ]
  },
  {
   "cell_type": "code",
   "execution_count": null,
   "metadata": {},
   "outputs": [],
   "source": [
    "each = models[-3]\n",
    "print(each)\n",
    "files3 = glob.glob(each+'/*')\n",
    "for f in files3:\n",
    "    print(f)"
   ]
  },
  {
   "cell_type": "code",
   "execution_count": null,
   "metadata": {},
   "outputs": [],
   "source": [
    "each = models[-3]\n",
    "print(each)\n",
    "files4 = glob.glob(each+'/*')\n",
    "for f in files4:\n",
    "    print(f)"
   ]
  },
  {
   "cell_type": "code",
   "execution_count": 20,
   "metadata": {},
   "outputs": [
    {
     "data": {
      "text/plain": [
       "['loss/nmt_dropout_05/run_train_log-tag-test_bleu.csv',\n",
       " 'loss/nmt_dropout_05/run_train_log-tag-train_loss.csv',\n",
       " 'loss/nmt_dropout_05/run_best_bleu_train_log-tag-test_bleu.csv',\n",
       " 'loss/nmt_dropout_05/run_train_log-tag-test_ppl.csv',\n",
       " 'loss/nmt_dropout_05/run_train_log-tag-train_ppl.csv',\n",
       " 'loss/nmt_dropout_05/run_best_bleu_train_log-tag-test_ppl.csv']"
      ]
     },
     "execution_count": 20,
     "metadata": {},
     "output_type": "execute_result"
    }
   ],
   "source": [
    "files1"
   ]
  },
  {
   "cell_type": "code",
   "execution_count": 21,
   "metadata": {},
   "outputs": [],
   "source": [
    "df1 = pd.read_csv(files1[1])"
   ]
  },
  {
   "cell_type": "code",
   "execution_count": 22,
   "metadata": {},
   "outputs": [
    {
     "data": {
      "text/plain": [
       "['loss/bidirectional_lstm/train_loss.csv',\n",
       " 'loss/bidirectional_lstm/dev_bleu.csv',\n",
       " 'loss/bidirectional_lstm/best_bleu_dev_bleu.csv',\n",
       " 'loss/bidirectional_lstm/train_ppl.csv',\n",
       " 'loss/bidirectional_lstm/best_bleu_dev_ppl.csv',\n",
       " 'loss/bidirectional_lstm/dev_ppl.csv']"
      ]
     },
     "execution_count": 22,
     "metadata": {},
     "output_type": "execute_result"
    }
   ],
   "source": [
    "files2"
   ]
  },
  {
   "cell_type": "code",
   "execution_count": 23,
   "metadata": {},
   "outputs": [],
   "source": [
    "df2 = pd.read_csv(files2[0])"
   ]
  },
  {
   "cell_type": "code",
   "execution_count": null,
   "metadata": {},
   "outputs": [],
   "source": [
    "files3"
   ]
  },
  {
   "cell_type": "code",
   "execution_count": null,
   "metadata": {},
   "outputs": [],
   "source": [
    "df3 = pd.read_csv(files3[0])"
   ]
  },
  {
   "cell_type": "code",
   "execution_count": null,
   "metadata": {},
   "outputs": [],
   "source": [
    "files4"
   ]
  },
  {
   "cell_type": "code",
   "execution_count": null,
   "metadata": {},
   "outputs": [],
   "source": [
    "df4 = pd.read_csv(files4[0])"
   ]
  },
  {
   "cell_type": "code",
   "execution_count": null,
   "metadata": {},
   "outputs": [],
   "source": [
    "df1.head()"
   ]
  },
  {
   "cell_type": "code",
   "execution_count": null,
   "metadata": {},
   "outputs": [],
   "source": [
    "df2.head()"
   ]
  },
  {
   "cell_type": "code",
   "execution_count": null,
   "metadata": {},
   "outputs": [],
   "source": [
    "len(df1)"
   ]
  },
  {
   "cell_type": "code",
   "execution_count": null,
   "metadata": {},
   "outputs": [],
   "source": [
    "len(df2)"
   ]
  },
  {
   "cell_type": "code",
   "execution_count": 24,
   "metadata": {},
   "outputs": [],
   "source": [
    "x_axis = df1['Step']\n",
    "y_axis_1 = df1['Value'][:len(x_axis)]\n",
    "y_axis_2 = df2['Value'][:len(x_axis)]\n",
    "#y_axis_3 = df3['Value'][:len(x_axis)]\n",
    "#y_axis_4 = df4['Value'][:len(x_axis)]\n",
    "x_label = '# Steps'\n",
    "y_label = 'Training Score'\n",
    "title = 'Performance of model with different dropout rate'\n",
    "#title = 'Comparision of models when number of encoder and decoder layers are different'\n",
    "label1 = 'keep probability = 0.5'\n",
    "label2 = 'keep probability = 0.8'\n",
    "#label3 = 'batch size = 32'\n",
    "#label4 = 'Greedy'\n",
    "filename= 'dropout_train_loss.png'"
   ]
  },
  {
   "cell_type": "code",
   "execution_count": 25,
   "metadata": {},
   "outputs": [
    {
     "data": {
      "image/png": "[encoded data removed]",
      "text/plain": [
       "<matplotlib.figure.Figure at 0x7f1d5f3b9c18>"
      ]
     },
     "metadata": {},
     "output_type": "display_data"
    }
   ],
   "source": [
    "colors = ['cyan', 'yellow', 'red', 'orange', 'magenta', 'violet', 'purple']\n",
    "\n",
    "color1 = (255/255, 221/255, 15/255)\n",
    "color2 = (61/255, 232/255, 25/255)\n",
    "#color3 = (22/255, 207/255, 194/255)\n",
    "color1 = (255/255, 0/255, 15/255)\n",
    "\n",
    "fig = plt.figure(figsize=(12,10))\n",
    "\n",
    "plt.plot(x_axis, y_axis_1 , color=color1, label=label1, alpha=0.75)\n",
    "#plt.scatter(x_axis, y_axis_1, label=None, c=color1, alpha=0.4)\n",
    "\n",
    "plt.plot(x_axis, y_axis_2 , color=color2, label=label2, alpha=0.75)\n",
    "#plt.scatter(df2['Step'], y_axis_2,s=110, c=color2, alpha=0.75, label='Best Bleu Score')\n",
    "\n",
    "#plt.plot(x_axis, y_axis_3 , color=color3, label=label3, alpha=0.75)\n",
    "#plt.plot(x_axis, y_axis_4 , color=color4, label=label4, alpha=0.75)\n",
    "\n",
    "plt.xlabel(x_label)\n",
    "plt.ylabel(y_label)\n",
    "plt.legend(loc='upper right', frameon=True, prop={'size' : 12}) # prop is to set the font properties of the legend\n",
    "\n",
    "plt.title(title)\n",
    "\n",
    "plt.savefig(filename, bbox_inches='tight',transparent=False,pad_inches=.2, dpi = 200)\n",
    "plt.show()"
   ]
  },
  {
   "cell_type": "code",
   "execution_count": null,
   "metadata": {},
   "outputs": [],
   "source": []
  },
  {
   "cell_type": "code",
   "execution_count": null,
   "metadata": {},
   "outputs": [],
   "source": []
  }
 ],
 "metadata": {
  "kernelspec": {
   "display_name": "Python 3",
   "language": "python",
   "name": "python3"
  },
  "language_info": {
   "codemirror_mode": {
    "name": "ipython",
    "version": 3
   },
   "file_extension": ".py",
   "mimetype": "text/x-python",
   "name": "python",
   "nbconvert_exporter": "python",
   "pygments_lexer": "ipython3",
   "version": "3.6.4"
  }
 },
 "nbformat": 4,
 "nbformat_minor": 2
}
